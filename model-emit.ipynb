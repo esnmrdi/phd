{
 "cells": [
  {
   "cell_type": "markdown",
   "source": [
    "#### Running the EMIT model for FCR estimation to compare its performance with our vehicle-specific metamodels\r\n",
    "#### Ehsan Moradi, Ph.D. Candidate"
   ],
   "metadata": {}
  },
  {
   "cell_type": "code",
   "execution_count": 1,
   "source": [
    "# Load required libraries\r\n",
    "import numpy as np\r\n",
    "import pandas as pd\r\n",
    "import matplotlib.pyplot as plt\r\n",
    "import seaborn as sns\r\n",
    "from sklearn.metrics import r2_score"
   ],
   "outputs": [],
   "metadata": {}
  },
  {
   "cell_type": "code",
   "execution_count": 2,
   "source": [
    "# General settings\r\n",
    "VEHICLES = (\r\n",
    "    \"019 Hyundai Elantra GT 2019 (2.0L Auto)\",\r\n",
    "    \"025 Chevrolet Captiva 2010 (2.4L Auto)\",\r\n",
    "    \"027 Chevrolet Cruze 2011 (1.8L Manual)\",\r\n",
    ")\r\n",
    "FEATURES = [\"SPD_KH\", \"ACC_MS2\", \"ALT_M\"]\r\n",
    "DEPENDENT = \"FCR_LH\"\r\n",
    "SETTINGS = {\r\n",
    "    \"INPUT_01_TYPE\": \"ENSEMBLE\",\r\n",
    "    \"INPUT_01_INDEX\": \"06\",\r\n",
    "    \"INPUT_02_TYPE\": \"EMIT\",\r\n",
    "    \"INPUT_02_INDEX\": \"SPECS\",\r\n",
    "    \"OUTPUT_01_TYPE\": \"EMIT\",\r\n",
    "    \"OUTPUT_01_INDEX\": \"COMPARE\",\r\n",
    "}\r\n"
   ],
   "outputs": [],
   "metadata": {}
  },
  {
   "cell_type": "code",
   "execution_count": 3,
   "source": [
    "# Load sample data from Excel to a pandas dataframe\r\n",
    "def load_from_Excel(vehicle, order, sheet, settings):\r\n",
    "    directory = (\r\n",
    "        \"../../Academia/PhD/Field Experiments/Veepeak/\"\r\n",
    "        + vehicle\r\n",
    "        + \"/Processed/\"\r\n",
    "        + settings[\"INPUT_\" + order + \"_TYPE\"]\r\n",
    "        + \"/\"\r\n",
    "    )\r\n",
    "    input_file = vehicle + \" - {0} - {1}.xlsx\".format(\r\n",
    "        settings[\"INPUT_\" + order + \"_TYPE\"], settings[\"INPUT_\" + order + \"_INDEX\"]\r\n",
    "    )\r\n",
    "    input_path = directory + input_file\r\n",
    "    df = pd.read_excel(input_path, sheet_name=sheet, header=0)\r\n",
    "    return df\r\n"
   ],
   "outputs": [],
   "metadata": {}
  },
  {
   "cell_type": "code",
   "execution_count": 4,
   "source": [
    "# Save the predicted field back to Excel file\r\n",
    "def save_to_excel(df, vehicle, order, settings):\r\n",
    "    directory = (\r\n",
    "        \"../../Academia/PhD/Field Experiments/Veepeak/\"\r\n",
    "        + vehicle\r\n",
    "        + \"/Processed/\"\r\n",
    "        + settings[\"OUTPUT_\" + order + \"_TYPE\"]\r\n",
    "        + \"/\"\r\n",
    "    )\r\n",
    "    output_file = vehicle + \" - {0} - {1}.xlsx\".format(\r\n",
    "        settings[\"OUTPUT_\" + order + \"_TYPE\"], settings[\"OUTPUT_\" + order + \"_INDEX\"]\r\n",
    "    )\r\n",
    "    output_path = directory + output_file\r\n",
    "    with pd.ExcelWriter(output_path, engine=\"openpyxl\", mode=\"w\") as writer:\r\n",
    "        df.to_excel(writer, header=True, index=None)\r\n",
    "    print(\"{} -> Data is saved to Excel successfully!\".format(vehicle))\r\n",
    "    return None\r\n"
   ],
   "outputs": [],
   "metadata": {}
  },
  {
   "cell_type": "code",
   "execution_count": 5,
   "source": [
    "# Calculate power (p_tract)\r\n",
    "def calculate_power(df, specs):\r\n",
    "    df[\"P_TRACT\"] = specs[\"A\"] * df[\"SPD_MS\"] + specs[\"B\"] * (df[\"SPD_MS\"] ** 2) + specs[\"C\"] * (\r\n",
    "        df[\"SPD_MS\"] ** 3) + specs[\"M\"] * df[\"ACC_MS2\"] * df[\"SPD_MS\"] + specs[\"M\"] * 9.81 * np.sin(df[\"GRADE_RAD\"]) * df[\"SPD_MS\"]\r\n",
    "    return df\r\n"
   ],
   "outputs": [],
   "metadata": {}
  },
  {
   "cell_type": "code",
   "execution_count": 8,
   "source": [
    "# Calculate fuel consumption rate\r\n",
    "def calculate_fcr(df, specs):\r\n",
    "    df[\"EMIT_FCR_GS\"] = np.where(df['P_TRACT'] > 0, specs[\"ALPHA\"] + specs[\"BETA\"] * df[\"SPD_MS\"] + specs[\"GAMMA\"] *\r\n",
    "                                 (df[\"SPD_MS\"] ** 2) + specs[\"DELTA\"] * (df[\"SPD_MS\"] ** 3) +\r\n",
    "                                 specs[\"KSI\"] * df[\"ACC_MS2\"] * df[\"SPD_MS\"], specs[\"ALPHA_PRIME\"])\r\n",
    "    # The specefic gravity of standard gasoline is 755 g/L\r\n",
    "    df[\"EMIT_FCR_LH\"] = (3600 / 755) * df[\"EMIT_FCR_GS\"]\r\n",
    "    return df\r\n"
   ],
   "outputs": [],
   "metadata": {}
  },
  {
   "cell_type": "code",
   "execution_count": null,
   "source": [
    "# Run the EMIT model\r\n",
    "predictions, observations = {}, {}\r\n",
    "for vehicle in VEHICLES:\r\n",
    "    df = load_from_Excel(vehicle, \"01\", \"Sheet1\", SETTINGS)\r\n",
    "    df[\"SPD_MS\"] = df[\"SPD_KH\"] / 3.6\r\n",
    "    df[\"GRADE_RAD\"] = np.radians(df[\"NO_OUTLIER_GRADE_DEG\"])\r\n",
    "    specs = load_from_Excel(\r\n",
    "        VEHICLES[0], \"02\", \"Sheet1\", SETTINGS).iloc[0].to_dict()\r\n",
    "    df = calculate_power(df, specs)\r\n",
    "    df = calculate_fcr(df, specs)\r\n",
    "    predictions[vehicle] = df[\"EMIT_FCR_LH\"]\r\n",
    "    observations[vehicle] = df[\"FCR_LH\"]\r\n",
    "    save_to_excel(df, vehicle, \"01\", SETTINGS)\r\n"
   ],
   "outputs": [],
   "metadata": {}
  },
  {
   "cell_type": "code",
   "execution_count": null,
   "source": [
    "# Time-series plot of EMIT predictions vs. true observations for a selected time-window\r\n",
    "for vehicle in VEHICLES:\r\n",
    "    fig, ax = plt.subplots(figsize=(12, 4))\r\n",
    "    sns.lineplot(x=range(750), y=predictions[vehicle][0:750], color=\"blue\")\r\n",
    "    sns.lineplot(x=range(750), y=observations[vehicle][0:750], color=\"red\")\r\n",
    "    plt.legend(labels=[\"Predictions (EMIT)\", \"True Observations\"])\r\n",
    "    plt.show()\r\n"
   ],
   "outputs": [],
   "metadata": {}
  },
  {
   "cell_type": "code",
   "execution_count": null,
   "source": [
    "# Scatter plot to compare EMIT predictions and true observations\r\n",
    "for vehicle in VEHICLES:\r\n",
    "    fig, ax = plt.subplots(figsize=(4, 4))\r\n",
    "    sns.scatterplot(x=observations[vehicle], y=predictions[vehicle])\r\n",
    "    upper_bound = np.max([np.max(observations[vehicle]),\r\n",
    "                         np.max(predictions[vehicle])])\r\n",
    "    plt.xlim(0, upper_bound)\r\n",
    "    plt.ylim(0, upper_bound)\r\n",
    "    plt.xlabel(\"True Observations\")\r\n",
    "    plt.ylabel(\"EMIT Predictions\")\r\n",
    "    plt.show()\r\n"
   ],
   "outputs": [],
   "metadata": {}
  },
  {
   "cell_type": "code",
   "execution_count": null,
   "source": [
    "# Calculate R-squared score\r\n",
    "for vehicle in VEHICLES:\r\n",
    "    print(\"{0}: {1}\".format(vehicle, r2_score(\r\n",
    "        observations[vehicle], predictions[vehicle])))"
   ],
   "outputs": [],
   "metadata": {}
  }
 ],
 "metadata": {
  "orig_nbformat": 4,
  "language_info": {
   "name": "python",
   "version": "3.8.11",
   "mimetype": "text/x-python",
   "codemirror_mode": {
    "name": "ipython",
    "version": 3
   },
   "pygments_lexer": "ipython3",
   "nbconvert_exporter": "python",
   "file_extension": ".py"
  },
  "kernelspec": {
   "name": "python3",
   "display_name": "Python 3.8.11 64-bit ('base': conda)"
  },
  "interpreter": {
   "hash": "f2f7ec7f24822a77954a16386e6454899950191e95b6a4951530c082877018e3"
  }
 },
 "nbformat": 4,
 "nbformat_minor": 2
}